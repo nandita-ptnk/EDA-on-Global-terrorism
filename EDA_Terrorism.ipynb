{
  "nbformat": 4,
  "nbformat_minor": 0,
  "metadata": {
    "colab": {
      "name": "EDA Terrorism.ipynb",
      "provenance": [],
      "collapsed_sections": []
    },
    "kernelspec": {
      "name": "python3",
      "display_name": "Python 3"
    },
    "language_info": {
      "name": "python"
    }
  },
  "cells": [
    {
      "cell_type": "code",
      "execution_count": null,
      "metadata": {
        "id": "NT2TSbAdCAti"
      },
      "outputs": [],
      "source": [
        "import pandas as pd\n",
        "import numpy as np\n",
        "import matplotlib.pyplot as plt"
      ]
    },
    {
      "cell_type": "code",
      "source": [
        "from google.colab import drive\n",
        "drive.mount('/content/drive')"
      ],
      "metadata": {
        "colab": {
          "base_uri": "https://localhost:8080/"
        },
        "id": "NSs5SzutCY-z",
        "outputId": "a666b169-8b2b-482f-bd7e-77eedbdd006e"
      },
      "execution_count": null,
      "outputs": [
        {
          "output_type": "stream",
          "name": "stdout",
          "text": [
            "Drive already mounted at /content/drive; to attempt to forcibly remount, call drive.mount(\"/content/drive\", force_remount=True).\n"
          ]
        }
      ]
    },
    {
      "cell_type": "code",
      "source": [
        "gt = pd.read_csv('/content/drive/MyDrive/globalterrorismdb_0718dist.csv',encoding='ISO-8859-1')\n",
        "gt.head()"
      ],
      "metadata": {
        "colab": {
          "base_uri": "https://localhost:8080/",
          "height": 352
        },
        "id": "1_oeCkdkDta8",
        "outputId": "ad982cf0-c144-4b15-e9d5-a4be24a53b9f"
      },
      "execution_count": null,
      "outputs": [
        {
          "output_type": "stream",
          "name": "stderr",
          "text": [
            "/usr/local/lib/python3.7/dist-packages/IPython/core/interactiveshell.py:2882: DtypeWarning: Columns (4,6,31,33,61,62,63,76,79,90,92,94,96,114,115,121) have mixed types.Specify dtype option on import or set low_memory=False.\n",
            "  exec(code_obj, self.user_global_ns, self.user_ns)\n"
          ]
        },
        {
          "output_type": "execute_result",
          "data": {
            "text/plain": [
              "        eventid  iyear  imonth  iday approxdate  extended resolution  country  \\\n",
              "0  197000000001   1970       7     2        NaN         0        NaN       58   \n",
              "1  197000000002   1970       0     0        NaN         0        NaN      130   \n",
              "2  197001000001   1970       1     0        NaN         0        NaN      160   \n",
              "3  197001000002   1970       1     0        NaN         0        NaN       78   \n",
              "4  197001000003   1970       1     0        NaN         0        NaN      101   \n",
              "\n",
              "          country_txt  region  ... addnotes scite1 scite2  scite3  dbsource  \\\n",
              "0  Dominican Republic       2  ...      NaN    NaN    NaN     NaN      PGIS   \n",
              "1              Mexico       1  ...      NaN    NaN    NaN     NaN      PGIS   \n",
              "2         Philippines       5  ...      NaN    NaN    NaN     NaN      PGIS   \n",
              "3              Greece       8  ...      NaN    NaN    NaN     NaN      PGIS   \n",
              "4               Japan       4  ...      NaN    NaN    NaN     NaN      PGIS   \n",
              "\n",
              "   INT_LOG  INT_IDEO INT_MISC INT_ANY  related  \n",
              "0        0         0        0       0      NaN  \n",
              "1        0         1        1       1      NaN  \n",
              "2       -9        -9        1       1      NaN  \n",
              "3       -9        -9        1       1      NaN  \n",
              "4       -9        -9        1       1      NaN  \n",
              "\n",
              "[5 rows x 135 columns]"
            ],
            "text/html": [
              "\n",
              "  <div id=\"df-19de1474-8df9-45c1-ae5b-ee03961bf539\">\n",
              "    <div class=\"colab-df-container\">\n",
              "      <div>\n",
              "<style scoped>\n",
              "    .dataframe tbody tr th:only-of-type {\n",
              "        vertical-align: middle;\n",
              "    }\n",
              "\n",
              "    .dataframe tbody tr th {\n",
              "        vertical-align: top;\n",
              "    }\n",
              "\n",
              "    .dataframe thead th {\n",
              "        text-align: right;\n",
              "    }\n",
              "</style>\n",
              "<table border=\"1\" class=\"dataframe\">\n",
              "  <thead>\n",
              "    <tr style=\"text-align: right;\">\n",
              "      <th></th>\n",
              "      <th>eventid</th>\n",
              "      <th>iyear</th>\n",
              "      <th>imonth</th>\n",
              "      <th>iday</th>\n",
              "      <th>approxdate</th>\n",
              "      <th>extended</th>\n",
              "      <th>resolution</th>\n",
              "      <th>country</th>\n",
              "      <th>country_txt</th>\n",
              "      <th>region</th>\n",
              "      <th>...</th>\n",
              "      <th>addnotes</th>\n",
              "      <th>scite1</th>\n",
              "      <th>scite2</th>\n",
              "      <th>scite3</th>\n",
              "      <th>dbsource</th>\n",
              "      <th>INT_LOG</th>\n",
              "      <th>INT_IDEO</th>\n",
              "      <th>INT_MISC</th>\n",
              "      <th>INT_ANY</th>\n",
              "      <th>related</th>\n",
              "    </tr>\n",
              "  </thead>\n",
              "  <tbody>\n",
              "    <tr>\n",
              "      <th>0</th>\n",
              "      <td>197000000001</td>\n",
              "      <td>1970</td>\n",
              "      <td>7</td>\n",
              "      <td>2</td>\n",
              "      <td>NaN</td>\n",
              "      <td>0</td>\n",
              "      <td>NaN</td>\n",
              "      <td>58</td>\n",
              "      <td>Dominican Republic</td>\n",
              "      <td>2</td>\n",
              "      <td>...</td>\n",
              "      <td>NaN</td>\n",
              "      <td>NaN</td>\n",
              "      <td>NaN</td>\n",
              "      <td>NaN</td>\n",
              "      <td>PGIS</td>\n",
              "      <td>0</td>\n",
              "      <td>0</td>\n",
              "      <td>0</td>\n",
              "      <td>0</td>\n",
              "      <td>NaN</td>\n",
              "    </tr>\n",
              "    <tr>\n",
              "      <th>1</th>\n",
              "      <td>197000000002</td>\n",
              "      <td>1970</td>\n",
              "      <td>0</td>\n",
              "      <td>0</td>\n",
              "      <td>NaN</td>\n",
              "      <td>0</td>\n",
              "      <td>NaN</td>\n",
              "      <td>130</td>\n",
              "      <td>Mexico</td>\n",
              "      <td>1</td>\n",
              "      <td>...</td>\n",
              "      <td>NaN</td>\n",
              "      <td>NaN</td>\n",
              "      <td>NaN</td>\n",
              "      <td>NaN</td>\n",
              "      <td>PGIS</td>\n",
              "      <td>0</td>\n",
              "      <td>1</td>\n",
              "      <td>1</td>\n",
              "      <td>1</td>\n",
              "      <td>NaN</td>\n",
              "    </tr>\n",
              "    <tr>\n",
              "      <th>2</th>\n",
              "      <td>197001000001</td>\n",
              "      <td>1970</td>\n",
              "      <td>1</td>\n",
              "      <td>0</td>\n",
              "      <td>NaN</td>\n",
              "      <td>0</td>\n",
              "      <td>NaN</td>\n",
              "      <td>160</td>\n",
              "      <td>Philippines</td>\n",
              "      <td>5</td>\n",
              "      <td>...</td>\n",
              "      <td>NaN</td>\n",
              "      <td>NaN</td>\n",
              "      <td>NaN</td>\n",
              "      <td>NaN</td>\n",
              "      <td>PGIS</td>\n",
              "      <td>-9</td>\n",
              "      <td>-9</td>\n",
              "      <td>1</td>\n",
              "      <td>1</td>\n",
              "      <td>NaN</td>\n",
              "    </tr>\n",
              "    <tr>\n",
              "      <th>3</th>\n",
              "      <td>197001000002</td>\n",
              "      <td>1970</td>\n",
              "      <td>1</td>\n",
              "      <td>0</td>\n",
              "      <td>NaN</td>\n",
              "      <td>0</td>\n",
              "      <td>NaN</td>\n",
              "      <td>78</td>\n",
              "      <td>Greece</td>\n",
              "      <td>8</td>\n",
              "      <td>...</td>\n",
              "      <td>NaN</td>\n",
              "      <td>NaN</td>\n",
              "      <td>NaN</td>\n",
              "      <td>NaN</td>\n",
              "      <td>PGIS</td>\n",
              "      <td>-9</td>\n",
              "      <td>-9</td>\n",
              "      <td>1</td>\n",
              "      <td>1</td>\n",
              "      <td>NaN</td>\n",
              "    </tr>\n",
              "    <tr>\n",
              "      <th>4</th>\n",
              "      <td>197001000003</td>\n",
              "      <td>1970</td>\n",
              "      <td>1</td>\n",
              "      <td>0</td>\n",
              "      <td>NaN</td>\n",
              "      <td>0</td>\n",
              "      <td>NaN</td>\n",
              "      <td>101</td>\n",
              "      <td>Japan</td>\n",
              "      <td>4</td>\n",
              "      <td>...</td>\n",
              "      <td>NaN</td>\n",
              "      <td>NaN</td>\n",
              "      <td>NaN</td>\n",
              "      <td>NaN</td>\n",
              "      <td>PGIS</td>\n",
              "      <td>-9</td>\n",
              "      <td>-9</td>\n",
              "      <td>1</td>\n",
              "      <td>1</td>\n",
              "      <td>NaN</td>\n",
              "    </tr>\n",
              "  </tbody>\n",
              "</table>\n",
              "<p>5 rows × 135 columns</p>\n",
              "</div>\n",
              "      <button class=\"colab-df-convert\" onclick=\"convertToInteractive('df-19de1474-8df9-45c1-ae5b-ee03961bf539')\"\n",
              "              title=\"Convert this dataframe to an interactive table.\"\n",
              "              style=\"display:none;\">\n",
              "        \n",
              "  <svg xmlns=\"http://www.w3.org/2000/svg\" height=\"24px\"viewBox=\"0 0 24 24\"\n",
              "       width=\"24px\">\n",
              "    <path d=\"M0 0h24v24H0V0z\" fill=\"none\"/>\n",
              "    <path d=\"M18.56 5.44l.94 2.06.94-2.06 2.06-.94-2.06-.94-.94-2.06-.94 2.06-2.06.94zm-11 1L8.5 8.5l.94-2.06 2.06-.94-2.06-.94L8.5 2.5l-.94 2.06-2.06.94zm10 10l.94 2.06.94-2.06 2.06-.94-2.06-.94-.94-2.06-.94 2.06-2.06.94z\"/><path d=\"M17.41 7.96l-1.37-1.37c-.4-.4-.92-.59-1.43-.59-.52 0-1.04.2-1.43.59L10.3 9.45l-7.72 7.72c-.78.78-.78 2.05 0 2.83L4 21.41c.39.39.9.59 1.41.59.51 0 1.02-.2 1.41-.59l7.78-7.78 2.81-2.81c.8-.78.8-2.07 0-2.86zM5.41 20L4 18.59l7.72-7.72 1.47 1.35L5.41 20z\"/>\n",
              "  </svg>\n",
              "      </button>\n",
              "      \n",
              "  <style>\n",
              "    .colab-df-container {\n",
              "      display:flex;\n",
              "      flex-wrap:wrap;\n",
              "      gap: 12px;\n",
              "    }\n",
              "\n",
              "    .colab-df-convert {\n",
              "      background-color: #E8F0FE;\n",
              "      border: none;\n",
              "      border-radius: 50%;\n",
              "      cursor: pointer;\n",
              "      display: none;\n",
              "      fill: #1967D2;\n",
              "      height: 32px;\n",
              "      padding: 0 0 0 0;\n",
              "      width: 32px;\n",
              "    }\n",
              "\n",
              "    .colab-df-convert:hover {\n",
              "      background-color: #E2EBFA;\n",
              "      box-shadow: 0px 1px 2px rgba(60, 64, 67, 0.3), 0px 1px 3px 1px rgba(60, 64, 67, 0.15);\n",
              "      fill: #174EA6;\n",
              "    }\n",
              "\n",
              "    [theme=dark] .colab-df-convert {\n",
              "      background-color: #3B4455;\n",
              "      fill: #D2E3FC;\n",
              "    }\n",
              "\n",
              "    [theme=dark] .colab-df-convert:hover {\n",
              "      background-color: #434B5C;\n",
              "      box-shadow: 0px 1px 3px 1px rgba(0, 0, 0, 0.15);\n",
              "      filter: drop-shadow(0px 1px 2px rgba(0, 0, 0, 0.3));\n",
              "      fill: #FFFFFF;\n",
              "    }\n",
              "  </style>\n",
              "\n",
              "      <script>\n",
              "        const buttonEl =\n",
              "          document.querySelector('#df-19de1474-8df9-45c1-ae5b-ee03961bf539 button.colab-df-convert');\n",
              "        buttonEl.style.display =\n",
              "          google.colab.kernel.accessAllowed ? 'block' : 'none';\n",
              "\n",
              "        async function convertToInteractive(key) {\n",
              "          const element = document.querySelector('#df-19de1474-8df9-45c1-ae5b-ee03961bf539');\n",
              "          const dataTable =\n",
              "            await google.colab.kernel.invokeFunction('convertToInteractive',\n",
              "                                                     [key], {});\n",
              "          if (!dataTable) return;\n",
              "\n",
              "          const docLinkHtml = 'Like what you see? Visit the ' +\n",
              "            '<a target=\"_blank\" href=https://colab.research.google.com/notebooks/data_table.ipynb>data table notebook</a>'\n",
              "            + ' to learn more about interactive tables.';\n",
              "          element.innerHTML = '';\n",
              "          dataTable['output_type'] = 'display_data';\n",
              "          await google.colab.output.renderOutput(dataTable, element);\n",
              "          const docLink = document.createElement('div');\n",
              "          docLink.innerHTML = docLinkHtml;\n",
              "          element.appendChild(docLink);\n",
              "        }\n",
              "      </script>\n",
              "    </div>\n",
              "  </div>\n",
              "  "
            ]
          },
          "metadata": {},
          "execution_count": 59
        }
      ]
    },
    {
      "cell_type": "code",
      "source": [
        "gt.shape"
      ],
      "metadata": {
        "colab": {
          "base_uri": "https://localhost:8080/"
        },
        "id": "lSUvtXi2Dtdo",
        "outputId": "ddc09ecb-502a-4ae9-f4a6-5896017213d1"
      },
      "execution_count": null,
      "outputs": [
        {
          "output_type": "execute_result",
          "data": {
            "text/plain": [
              "(181691, 135)"
            ]
          },
          "metadata": {},
          "execution_count": 60
        }
      ]
    },
    {
      "cell_type": "code",
      "source": [
        "gt.info()"
      ],
      "metadata": {
        "colab": {
          "base_uri": "https://localhost:8080/"
        },
        "id": "uRKzr2VPDtgB",
        "outputId": "7e8d622b-133a-42a9-898e-33b4d2e655e3"
      },
      "execution_count": null,
      "outputs": [
        {
          "output_type": "stream",
          "name": "stdout",
          "text": [
            "<class 'pandas.core.frame.DataFrame'>\n",
            "RangeIndex: 181691 entries, 0 to 181690\n",
            "Columns: 135 entries, eventid to related\n",
            "dtypes: float64(55), int64(22), object(58)\n",
            "memory usage: 187.1+ MB\n"
          ]
        }
      ]
    },
    {
      "cell_type": "code",
      "source": [
        "gt.describe(include=object)"
      ],
      "metadata": {
        "colab": {
          "base_uri": "https://localhost:8080/",
          "height": 372
        },
        "id": "pNYIKrgNDtiq",
        "outputId": "6efa2439-7bc1-46ba-c412-00911be6ce89"
      },
      "execution_count": null,
      "outputs": [
        {
          "output_type": "execute_result",
          "data": {
            "text/plain": [
              "                   approxdate resolution country_txt  \\\n",
              "count                    9239       2220      181691   \n",
              "unique                   2244       1859         205   \n",
              "top     September 18-24, 2016   8/4/1998        Iraq   \n",
              "freq                      101         18       24636   \n",
              "\n",
              "                        region_txt provstate     city  \\\n",
              "count                       181691    181270   181257   \n",
              "unique                          12      2855    36674   \n",
              "top     Middle East & North Africa   Baghdad  Unknown   \n",
              "freq                         50474      7645     9775   \n",
              "\n",
              "                                                location  \\\n",
              "count                                              55495   \n",
              "unique                                             44109   \n",
              "top     The attack took place in Baghdad, Baghdad, Iraq.   \n",
              "freq                                                 142   \n",
              "\n",
              "                                                  summary  \\\n",
              "count                                              115562   \n",
              "unique                                             112492   \n",
              "top     09/00/2016: Sometime between September 18, 201...   \n",
              "freq                                                  100   \n",
              "\n",
              "                   alternative_txt    attacktype1_txt  ...   divert  \\\n",
              "count                        29011             181691  ...      324   \n",
              "unique                           5                  9  ...      143   \n",
              "top     Insurgency/Guerilla Action  Bombing/Explosion  ...  Unknown   \n",
              "freq                         23410              88255  ...       27   \n",
              "\n",
              "       kidhijcountry ransomnote hostkidoutcome_txt  \\\n",
              "count           3305        514              10991   \n",
              "unique           217        387                  7   \n",
              "top         Colombia          0            Unknown   \n",
              "freq             687         36               3606   \n",
              "\n",
              "                                                 addnotes  \\\n",
              "count                                               28289   \n",
              "unique                                              15429   \n",
              "top     Casualty numbers for this incident conflict ac...   \n",
              "freq                                                 1607   \n",
              "\n",
              "                                                   scite1  \\\n",
              "count                                              115500   \n",
              "unique                                              83988   \n",
              "top     Committee on Government Operations United Stat...   \n",
              "freq                                                  205   \n",
              "\n",
              "                                                   scite2  \\\n",
              "count                                               76933   \n",
              "unique                                              62263   \n",
              "top     Christopher Hewitt, \"Political Violence and Te...   \n",
              "freq                                                  134   \n",
              "\n",
              "                                                   scite3  \\\n",
              "count                                               43516   \n",
              "unique                                              36090   \n",
              "top     Christopher Hewitt, \"Political Violence and Te...   \n",
              "freq                                                  139   \n",
              "\n",
              "                        dbsource  \\\n",
              "count                     181691   \n",
              "unique                        26   \n",
              "top     START Primary Collection   \n",
              "freq                       78002   \n",
              "\n",
              "                                                  related  \n",
              "count                                               25038  \n",
              "unique                                              14306  \n",
              "top     201612010023, 201612010024, 201612010025, 2016...  \n",
              "freq                                                   80  \n",
              "\n",
              "[4 rows x 58 columns]"
            ],
            "text/html": [
              "\n",
              "  <div id=\"df-8bd504c5-d937-4b1a-88c0-4a2d43c1c1d0\">\n",
              "    <div class=\"colab-df-container\">\n",
              "      <div>\n",
              "<style scoped>\n",
              "    .dataframe tbody tr th:only-of-type {\n",
              "        vertical-align: middle;\n",
              "    }\n",
              "\n",
              "    .dataframe tbody tr th {\n",
              "        vertical-align: top;\n",
              "    }\n",
              "\n",
              "    .dataframe thead th {\n",
              "        text-align: right;\n",
              "    }\n",
              "</style>\n",
              "<table border=\"1\" class=\"dataframe\">\n",
              "  <thead>\n",
              "    <tr style=\"text-align: right;\">\n",
              "      <th></th>\n",
              "      <th>approxdate</th>\n",
              "      <th>resolution</th>\n",
              "      <th>country_txt</th>\n",
              "      <th>region_txt</th>\n",
              "      <th>provstate</th>\n",
              "      <th>city</th>\n",
              "      <th>location</th>\n",
              "      <th>summary</th>\n",
              "      <th>alternative_txt</th>\n",
              "      <th>attacktype1_txt</th>\n",
              "      <th>...</th>\n",
              "      <th>divert</th>\n",
              "      <th>kidhijcountry</th>\n",
              "      <th>ransomnote</th>\n",
              "      <th>hostkidoutcome_txt</th>\n",
              "      <th>addnotes</th>\n",
              "      <th>scite1</th>\n",
              "      <th>scite2</th>\n",
              "      <th>scite3</th>\n",
              "      <th>dbsource</th>\n",
              "      <th>related</th>\n",
              "    </tr>\n",
              "  </thead>\n",
              "  <tbody>\n",
              "    <tr>\n",
              "      <th>count</th>\n",
              "      <td>9239</td>\n",
              "      <td>2220</td>\n",
              "      <td>181691</td>\n",
              "      <td>181691</td>\n",
              "      <td>181270</td>\n",
              "      <td>181257</td>\n",
              "      <td>55495</td>\n",
              "      <td>115562</td>\n",
              "      <td>29011</td>\n",
              "      <td>181691</td>\n",
              "      <td>...</td>\n",
              "      <td>324</td>\n",
              "      <td>3305</td>\n",
              "      <td>514</td>\n",
              "      <td>10991</td>\n",
              "      <td>28289</td>\n",
              "      <td>115500</td>\n",
              "      <td>76933</td>\n",
              "      <td>43516</td>\n",
              "      <td>181691</td>\n",
              "      <td>25038</td>\n",
              "    </tr>\n",
              "    <tr>\n",
              "      <th>unique</th>\n",
              "      <td>2244</td>\n",
              "      <td>1859</td>\n",
              "      <td>205</td>\n",
              "      <td>12</td>\n",
              "      <td>2855</td>\n",
              "      <td>36674</td>\n",
              "      <td>44109</td>\n",
              "      <td>112492</td>\n",
              "      <td>5</td>\n",
              "      <td>9</td>\n",
              "      <td>...</td>\n",
              "      <td>143</td>\n",
              "      <td>217</td>\n",
              "      <td>387</td>\n",
              "      <td>7</td>\n",
              "      <td>15429</td>\n",
              "      <td>83988</td>\n",
              "      <td>62263</td>\n",
              "      <td>36090</td>\n",
              "      <td>26</td>\n",
              "      <td>14306</td>\n",
              "    </tr>\n",
              "    <tr>\n",
              "      <th>top</th>\n",
              "      <td>September 18-24, 2016</td>\n",
              "      <td>8/4/1998</td>\n",
              "      <td>Iraq</td>\n",
              "      <td>Middle East &amp; North Africa</td>\n",
              "      <td>Baghdad</td>\n",
              "      <td>Unknown</td>\n",
              "      <td>The attack took place in Baghdad, Baghdad, Iraq.</td>\n",
              "      <td>09/00/2016: Sometime between September 18, 201...</td>\n",
              "      <td>Insurgency/Guerilla Action</td>\n",
              "      <td>Bombing/Explosion</td>\n",
              "      <td>...</td>\n",
              "      <td>Unknown</td>\n",
              "      <td>Colombia</td>\n",
              "      <td>0</td>\n",
              "      <td>Unknown</td>\n",
              "      <td>Casualty numbers for this incident conflict ac...</td>\n",
              "      <td>Committee on Government Operations United Stat...</td>\n",
              "      <td>Christopher Hewitt, \"Political Violence and Te...</td>\n",
              "      <td>Christopher Hewitt, \"Political Violence and Te...</td>\n",
              "      <td>START Primary Collection</td>\n",
              "      <td>201612010023, 201612010024, 201612010025, 2016...</td>\n",
              "    </tr>\n",
              "    <tr>\n",
              "      <th>freq</th>\n",
              "      <td>101</td>\n",
              "      <td>18</td>\n",
              "      <td>24636</td>\n",
              "      <td>50474</td>\n",
              "      <td>7645</td>\n",
              "      <td>9775</td>\n",
              "      <td>142</td>\n",
              "      <td>100</td>\n",
              "      <td>23410</td>\n",
              "      <td>88255</td>\n",
              "      <td>...</td>\n",
              "      <td>27</td>\n",
              "      <td>687</td>\n",
              "      <td>36</td>\n",
              "      <td>3606</td>\n",
              "      <td>1607</td>\n",
              "      <td>205</td>\n",
              "      <td>134</td>\n",
              "      <td>139</td>\n",
              "      <td>78002</td>\n",
              "      <td>80</td>\n",
              "    </tr>\n",
              "  </tbody>\n",
              "</table>\n",
              "<p>4 rows × 58 columns</p>\n",
              "</div>\n",
              "      <button class=\"colab-df-convert\" onclick=\"convertToInteractive('df-8bd504c5-d937-4b1a-88c0-4a2d43c1c1d0')\"\n",
              "              title=\"Convert this dataframe to an interactive table.\"\n",
              "              style=\"display:none;\">\n",
              "        \n",
              "  <svg xmlns=\"http://www.w3.org/2000/svg\" height=\"24px\"viewBox=\"0 0 24 24\"\n",
              "       width=\"24px\">\n",
              "    <path d=\"M0 0h24v24H0V0z\" fill=\"none\"/>\n",
              "    <path d=\"M18.56 5.44l.94 2.06.94-2.06 2.06-.94-2.06-.94-.94-2.06-.94 2.06-2.06.94zm-11 1L8.5 8.5l.94-2.06 2.06-.94-2.06-.94L8.5 2.5l-.94 2.06-2.06.94zm10 10l.94 2.06.94-2.06 2.06-.94-2.06-.94-.94-2.06-.94 2.06-2.06.94z\"/><path d=\"M17.41 7.96l-1.37-1.37c-.4-.4-.92-.59-1.43-.59-.52 0-1.04.2-1.43.59L10.3 9.45l-7.72 7.72c-.78.78-.78 2.05 0 2.83L4 21.41c.39.39.9.59 1.41.59.51 0 1.02-.2 1.41-.59l7.78-7.78 2.81-2.81c.8-.78.8-2.07 0-2.86zM5.41 20L4 18.59l7.72-7.72 1.47 1.35L5.41 20z\"/>\n",
              "  </svg>\n",
              "      </button>\n",
              "      \n",
              "  <style>\n",
              "    .colab-df-container {\n",
              "      display:flex;\n",
              "      flex-wrap:wrap;\n",
              "      gap: 12px;\n",
              "    }\n",
              "\n",
              "    .colab-df-convert {\n",
              "      background-color: #E8F0FE;\n",
              "      border: none;\n",
              "      border-radius: 50%;\n",
              "      cursor: pointer;\n",
              "      display: none;\n",
              "      fill: #1967D2;\n",
              "      height: 32px;\n",
              "      padding: 0 0 0 0;\n",
              "      width: 32px;\n",
              "    }\n",
              "\n",
              "    .colab-df-convert:hover {\n",
              "      background-color: #E2EBFA;\n",
              "      box-shadow: 0px 1px 2px rgba(60, 64, 67, 0.3), 0px 1px 3px 1px rgba(60, 64, 67, 0.15);\n",
              "      fill: #174EA6;\n",
              "    }\n",
              "\n",
              "    [theme=dark] .colab-df-convert {\n",
              "      background-color: #3B4455;\n",
              "      fill: #D2E3FC;\n",
              "    }\n",
              "\n",
              "    [theme=dark] .colab-df-convert:hover {\n",
              "      background-color: #434B5C;\n",
              "      box-shadow: 0px 1px 3px 1px rgba(0, 0, 0, 0.15);\n",
              "      filter: drop-shadow(0px 1px 2px rgba(0, 0, 0, 0.3));\n",
              "      fill: #FFFFFF;\n",
              "    }\n",
              "  </style>\n",
              "\n",
              "      <script>\n",
              "        const buttonEl =\n",
              "          document.querySelector('#df-8bd504c5-d937-4b1a-88c0-4a2d43c1c1d0 button.colab-df-convert');\n",
              "        buttonEl.style.display =\n",
              "          google.colab.kernel.accessAllowed ? 'block' : 'none';\n",
              "\n",
              "        async function convertToInteractive(key) {\n",
              "          const element = document.querySelector('#df-8bd504c5-d937-4b1a-88c0-4a2d43c1c1d0');\n",
              "          const dataTable =\n",
              "            await google.colab.kernel.invokeFunction('convertToInteractive',\n",
              "                                                     [key], {});\n",
              "          if (!dataTable) return;\n",
              "\n",
              "          const docLinkHtml = 'Like what you see? Visit the ' +\n",
              "            '<a target=\"_blank\" href=https://colab.research.google.com/notebooks/data_table.ipynb>data table notebook</a>'\n",
              "            + ' to learn more about interactive tables.';\n",
              "          element.innerHTML = '';\n",
              "          dataTable['output_type'] = 'display_data';\n",
              "          await google.colab.output.renderOutput(dataTable, element);\n",
              "          const docLink = document.createElement('div');\n",
              "          docLink.innerHTML = docLinkHtml;\n",
              "          element.appendChild(docLink);\n",
              "        }\n",
              "      </script>\n",
              "    </div>\n",
              "  </div>\n",
              "  "
            ]
          },
          "metadata": {},
          "execution_count": 62
        }
      ]
    },
    {
      "cell_type": "code",
      "source": [
        "gt['iyear'].value_counts()"
      ],
      "metadata": {
        "colab": {
          "base_uri": "https://localhost:8080/"
        },
        "id": "oPwbrcTCDtlY",
        "outputId": "e56d673e-7c55-4f43-a1c6-70c114d9f523"
      },
      "execution_count": null,
      "outputs": [
        {
          "output_type": "execute_result",
          "data": {
            "text/plain": [
              "2014    16903\n",
              "2015    14965\n",
              "2016    13587\n",
              "2013    12036\n",
              "2017    10900\n",
              "2012     8522\n",
              "2011     5076\n",
              "1992     5071\n",
              "2010     4826\n",
              "2008     4805\n",
              "2009     4721\n",
              "1991     4683\n",
              "1989     4324\n",
              "1990     3887\n",
              "1988     3721\n",
              "1984     3495\n",
              "1994     3456\n",
              "2007     3242\n",
              "1997     3197\n",
              "1987     3183\n",
              "1995     3081\n",
              "1996     3058\n",
              "1985     2915\n",
              "1983     2870\n",
              "1986     2860\n",
              "2006     2758\n",
              "1979     2662\n",
              "1980     2662\n",
              "1981     2586\n",
              "1982     2544\n",
              "2005     2017\n",
              "2001     1906\n",
              "2000     1814\n",
              "1978     1526\n",
              "1999     1395\n",
              "2002     1333\n",
              "1977     1319\n",
              "2003     1278\n",
              "2004     1166\n",
              "1998      934\n",
              "1976      923\n",
              "1975      740\n",
              "1970      651\n",
              "1974      581\n",
              "1972      568\n",
              "1973      473\n",
              "1971      471\n",
              "Name: iyear, dtype: int64"
            ]
          },
          "metadata": {},
          "execution_count": 63
        }
      ]
    },
    {
      "cell_type": "code",
      "source": [
        "gt['country_txt'].value_counts()"
      ],
      "metadata": {
        "colab": {
          "base_uri": "https://localhost:8080/"
        },
        "id": "pio-5r07Dtoe",
        "outputId": "3d2aea38-bda9-497c-9e7e-f19b74bb1d02"
      },
      "execution_count": null,
      "outputs": [
        {
          "output_type": "execute_result",
          "data": {
            "text/plain": [
              "Iraq                   24636\n",
              "Pakistan               14368\n",
              "Afghanistan            12731\n",
              "India                  11960\n",
              "Colombia                8306\n",
              "                       ...  \n",
              "International              1\n",
              "Wallis and Futuna          1\n",
              "South Vietnam              1\n",
              "Andorra                    1\n",
              "Antigua and Barbuda        1\n",
              "Name: country_txt, Length: 205, dtype: int64"
            ]
          },
          "metadata": {},
          "execution_count": 64
        }
      ]
    },
    {
      "cell_type": "code",
      "source": [
        "gt['attacktype1_txt'].value_counts()"
      ],
      "metadata": {
        "colab": {
          "base_uri": "https://localhost:8080/"
        },
        "id": "uoT4s4OZDtrX",
        "outputId": "512ef88a-20fb-4b02-e51d-5b6644d834b9"
      },
      "execution_count": null,
      "outputs": [
        {
          "output_type": "execute_result",
          "data": {
            "text/plain": [
              "Bombing/Explosion                      88255\n",
              "Armed Assault                          42669\n",
              "Assassination                          19312\n",
              "Hostage Taking (Kidnapping)            11158\n",
              "Facility/Infrastructure Attack         10356\n",
              "Unknown                                 7276\n",
              "Unarmed Assault                         1015\n",
              "Hostage Taking (Barricade Incident)      991\n",
              "Hijacking                                659\n",
              "Name: attacktype1_txt, dtype: int64"
            ]
          },
          "metadata": {},
          "execution_count": 65
        }
      ]
    },
    {
      "cell_type": "code",
      "source": [
        "gt['targtype1_txt'].value_counts()"
      ],
      "metadata": {
        "colab": {
          "base_uri": "https://localhost:8080/"
        },
        "id": "xqVNnKBuHa9y",
        "outputId": "246ce9c8-27bd-4cef-a873-446de439e6bd"
      },
      "execution_count": null,
      "outputs": [
        {
          "output_type": "execute_result",
          "data": {
            "text/plain": [
              "Private Citizens & Property       43511\n",
              "Military                          27984\n",
              "Police                            24506\n",
              "Government (General)              21283\n",
              "Business                          20669\n",
              "Transportation                     6799\n",
              "Utilities                          6023\n",
              "Unknown                            5898\n",
              "Religious Figures/Institutions     4440\n",
              "Educational Institution            4322\n",
              "Government (Diplomatic)            3573\n",
              "Terrorists/Non-State Militia       3039\n",
              "Journalists & Media                2948\n",
              "Violent Political Party            1866\n",
              "Airports & Aircraft                1343\n",
              "Telecommunication                  1009\n",
              "NGO                                 970\n",
              "Tourists                            440\n",
              "Maritime                            351\n",
              "Food or Water Supply                317\n",
              "Abortion Related                    263\n",
              "Other                               137\n",
              "Name: targtype1_txt, dtype: int64"
            ]
          },
          "metadata": {},
          "execution_count": 66
        }
      ]
    },
    {
      "cell_type": "code",
      "source": [
        "gt['gname'].value_counts()"
      ],
      "metadata": {
        "colab": {
          "base_uri": "https://localhost:8080/"
        },
        "id": "2EqgHrr4HbHe",
        "outputId": "80883466-915a-4a5e-fb73-da516278d9d1"
      },
      "execution_count": null,
      "outputs": [
        {
          "output_type": "execute_result",
          "data": {
            "text/plain": [
              "Unknown                                             82782\n",
              "Taliban                                              7478\n",
              "Islamic State of Iraq and the Levant (ISIL)          5613\n",
              "Shining Path (SL)                                    4555\n",
              "Farabundo Marti National Liberation Front (FMLN)     3351\n",
              "                                                    ...  \n",
              "Ansar Sarallah                                          1\n",
              "Sword of Islam                                          1\n",
              "Support of Ocalan-The Hawks of Thrace                   1\n",
              "Arab Revolutionary Front                                1\n",
              "MANO-D                                                  1\n",
              "Name: gname, Length: 3537, dtype: int64"
            ]
          },
          "metadata": {},
          "execution_count": 67
        }
      ]
    },
    {
      "cell_type": "code",
      "source": [
        "gt['weaptype1_txt'].value_counts()"
      ],
      "metadata": {
        "colab": {
          "base_uri": "https://localhost:8080/"
        },
        "id": "1vUeHr3XHbKS",
        "outputId": "f88f7bf3-d91d-44ef-dd45-b8dd34b57c13"
      },
      "execution_count": null,
      "outputs": [
        {
          "output_type": "execute_result",
          "data": {
            "text/plain": [
              "Explosives                                                                     92426\n",
              "Firearms                                                                       58524\n",
              "Unknown                                                                        15157\n",
              "Incendiary                                                                     11135\n",
              "Melee                                                                           3655\n",
              "Chemical                                                                         321\n",
              "Sabotage Equipment                                                               141\n",
              "Vehicle (not to include vehicle-borne explosives, i.e., car or truck bombs)      136\n",
              "Other                                                                            114\n",
              "Biological                                                                        35\n",
              "Fake Weapons                                                                      33\n",
              "Radiological                                                                      14\n",
              "Name: weaptype1_txt, dtype: int64"
            ]
          },
          "metadata": {},
          "execution_count": 68
        }
      ]
    },
    {
      "cell_type": "code",
      "source": [
        "gt[pd.isnull(gt['approxdate'])]\n",
        "gt.isnull().sum()"
      ],
      "metadata": {
        "colab": {
          "base_uri": "https://localhost:8080/"
        },
        "id": "ORtVHA5sHbMu",
        "outputId": "5a21ad09-7abd-4cc2-e818-e13d981dd4d0"
      },
      "execution_count": null,
      "outputs": [
        {
          "output_type": "execute_result",
          "data": {
            "text/plain": [
              "eventid            0\n",
              "iyear              0\n",
              "imonth             0\n",
              "iday               0\n",
              "approxdate    172452\n",
              "               ...  \n",
              "INT_LOG            0\n",
              "INT_IDEO           0\n",
              "INT_MISC           0\n",
              "INT_ANY            0\n",
              "related       156653\n",
              "Length: 135, dtype: int64"
            ]
          },
          "metadata": {},
          "execution_count": 69
        }
      ]
    },
    {
      "cell_type": "code",
      "source": [
        "gt.select_dtypes(exclude='number').describe()"
      ],
      "metadata": {
        "id": "Twpn2X0xHbPW",
        "colab": {
          "base_uri": "https://localhost:8080/",
          "height": 372
        },
        "outputId": "774c1924-abb9-4ee5-c63f-c81f1289b8a9"
      },
      "execution_count": null,
      "outputs": [
        {
          "output_type": "execute_result",
          "data": {
            "text/plain": [
              "                   approxdate resolution country_txt  \\\n",
              "count                    9239       2220      181691   \n",
              "unique                   2244       1859         205   \n",
              "top     September 18-24, 2016   8/4/1998        Iraq   \n",
              "freq                      101         18       24636   \n",
              "\n",
              "                        region_txt provstate     city  \\\n",
              "count                       181691    181270   181257   \n",
              "unique                          12      2855    36674   \n",
              "top     Middle East & North Africa   Baghdad  Unknown   \n",
              "freq                         50474      7645     9775   \n",
              "\n",
              "                                                location  \\\n",
              "count                                              55495   \n",
              "unique                                             44109   \n",
              "top     The attack took place in Baghdad, Baghdad, Iraq.   \n",
              "freq                                                 142   \n",
              "\n",
              "                                                  summary  \\\n",
              "count                                              115562   \n",
              "unique                                             112492   \n",
              "top     09/00/2016: Sometime between September 18, 201...   \n",
              "freq                                                  100   \n",
              "\n",
              "                   alternative_txt    attacktype1_txt  ...   divert  \\\n",
              "count                        29011             181691  ...      324   \n",
              "unique                           5                  9  ...      143   \n",
              "top     Insurgency/Guerilla Action  Bombing/Explosion  ...  Unknown   \n",
              "freq                         23410              88255  ...       27   \n",
              "\n",
              "       kidhijcountry ransomnote hostkidoutcome_txt  \\\n",
              "count           3305        514              10991   \n",
              "unique           217        387                  7   \n",
              "top         Colombia          0            Unknown   \n",
              "freq             687         36               3606   \n",
              "\n",
              "                                                 addnotes  \\\n",
              "count                                               28289   \n",
              "unique                                              15429   \n",
              "top     Casualty numbers for this incident conflict ac...   \n",
              "freq                                                 1607   \n",
              "\n",
              "                                                   scite1  \\\n",
              "count                                              115500   \n",
              "unique                                              83988   \n",
              "top     Committee on Government Operations United Stat...   \n",
              "freq                                                  205   \n",
              "\n",
              "                                                   scite2  \\\n",
              "count                                               76933   \n",
              "unique                                              62263   \n",
              "top     Christopher Hewitt, \"Political Violence and Te...   \n",
              "freq                                                  134   \n",
              "\n",
              "                                                   scite3  \\\n",
              "count                                               43516   \n",
              "unique                                              36090   \n",
              "top     Christopher Hewitt, \"Political Violence and Te...   \n",
              "freq                                                  139   \n",
              "\n",
              "                        dbsource  \\\n",
              "count                     181691   \n",
              "unique                        26   \n",
              "top     START Primary Collection   \n",
              "freq                       78002   \n",
              "\n",
              "                                                  related  \n",
              "count                                               25038  \n",
              "unique                                              14306  \n",
              "top     201612010023, 201612010024, 201612010025, 2016...  \n",
              "freq                                                   80  \n",
              "\n",
              "[4 rows x 58 columns]"
            ],
            "text/html": [
              "\n",
              "  <div id=\"df-04c0885d-d1b0-4c1d-9c05-86d54ae9cc39\">\n",
              "    <div class=\"colab-df-container\">\n",
              "      <div>\n",
              "<style scoped>\n",
              "    .dataframe tbody tr th:only-of-type {\n",
              "        vertical-align: middle;\n",
              "    }\n",
              "\n",
              "    .dataframe tbody tr th {\n",
              "        vertical-align: top;\n",
              "    }\n",
              "\n",
              "    .dataframe thead th {\n",
              "        text-align: right;\n",
              "    }\n",
              "</style>\n",
              "<table border=\"1\" class=\"dataframe\">\n",
              "  <thead>\n",
              "    <tr style=\"text-align: right;\">\n",
              "      <th></th>\n",
              "      <th>approxdate</th>\n",
              "      <th>resolution</th>\n",
              "      <th>country_txt</th>\n",
              "      <th>region_txt</th>\n",
              "      <th>provstate</th>\n",
              "      <th>city</th>\n",
              "      <th>location</th>\n",
              "      <th>summary</th>\n",
              "      <th>alternative_txt</th>\n",
              "      <th>attacktype1_txt</th>\n",
              "      <th>...</th>\n",
              "      <th>divert</th>\n",
              "      <th>kidhijcountry</th>\n",
              "      <th>ransomnote</th>\n",
              "      <th>hostkidoutcome_txt</th>\n",
              "      <th>addnotes</th>\n",
              "      <th>scite1</th>\n",
              "      <th>scite2</th>\n",
              "      <th>scite3</th>\n",
              "      <th>dbsource</th>\n",
              "      <th>related</th>\n",
              "    </tr>\n",
              "  </thead>\n",
              "  <tbody>\n",
              "    <tr>\n",
              "      <th>count</th>\n",
              "      <td>9239</td>\n",
              "      <td>2220</td>\n",
              "      <td>181691</td>\n",
              "      <td>181691</td>\n",
              "      <td>181270</td>\n",
              "      <td>181257</td>\n",
              "      <td>55495</td>\n",
              "      <td>115562</td>\n",
              "      <td>29011</td>\n",
              "      <td>181691</td>\n",
              "      <td>...</td>\n",
              "      <td>324</td>\n",
              "      <td>3305</td>\n",
              "      <td>514</td>\n",
              "      <td>10991</td>\n",
              "      <td>28289</td>\n",
              "      <td>115500</td>\n",
              "      <td>76933</td>\n",
              "      <td>43516</td>\n",
              "      <td>181691</td>\n",
              "      <td>25038</td>\n",
              "    </tr>\n",
              "    <tr>\n",
              "      <th>unique</th>\n",
              "      <td>2244</td>\n",
              "      <td>1859</td>\n",
              "      <td>205</td>\n",
              "      <td>12</td>\n",
              "      <td>2855</td>\n",
              "      <td>36674</td>\n",
              "      <td>44109</td>\n",
              "      <td>112492</td>\n",
              "      <td>5</td>\n",
              "      <td>9</td>\n",
              "      <td>...</td>\n",
              "      <td>143</td>\n",
              "      <td>217</td>\n",
              "      <td>387</td>\n",
              "      <td>7</td>\n",
              "      <td>15429</td>\n",
              "      <td>83988</td>\n",
              "      <td>62263</td>\n",
              "      <td>36090</td>\n",
              "      <td>26</td>\n",
              "      <td>14306</td>\n",
              "    </tr>\n",
              "    <tr>\n",
              "      <th>top</th>\n",
              "      <td>September 18-24, 2016</td>\n",
              "      <td>8/4/1998</td>\n",
              "      <td>Iraq</td>\n",
              "      <td>Middle East &amp; North Africa</td>\n",
              "      <td>Baghdad</td>\n",
              "      <td>Unknown</td>\n",
              "      <td>The attack took place in Baghdad, Baghdad, Iraq.</td>\n",
              "      <td>09/00/2016: Sometime between September 18, 201...</td>\n",
              "      <td>Insurgency/Guerilla Action</td>\n",
              "      <td>Bombing/Explosion</td>\n",
              "      <td>...</td>\n",
              "      <td>Unknown</td>\n",
              "      <td>Colombia</td>\n",
              "      <td>0</td>\n",
              "      <td>Unknown</td>\n",
              "      <td>Casualty numbers for this incident conflict ac...</td>\n",
              "      <td>Committee on Government Operations United Stat...</td>\n",
              "      <td>Christopher Hewitt, \"Political Violence and Te...</td>\n",
              "      <td>Christopher Hewitt, \"Political Violence and Te...</td>\n",
              "      <td>START Primary Collection</td>\n",
              "      <td>201612010023, 201612010024, 201612010025, 2016...</td>\n",
              "    </tr>\n",
              "    <tr>\n",
              "      <th>freq</th>\n",
              "      <td>101</td>\n",
              "      <td>18</td>\n",
              "      <td>24636</td>\n",
              "      <td>50474</td>\n",
              "      <td>7645</td>\n",
              "      <td>9775</td>\n",
              "      <td>142</td>\n",
              "      <td>100</td>\n",
              "      <td>23410</td>\n",
              "      <td>88255</td>\n",
              "      <td>...</td>\n",
              "      <td>27</td>\n",
              "      <td>687</td>\n",
              "      <td>36</td>\n",
              "      <td>3606</td>\n",
              "      <td>1607</td>\n",
              "      <td>205</td>\n",
              "      <td>134</td>\n",
              "      <td>139</td>\n",
              "      <td>78002</td>\n",
              "      <td>80</td>\n",
              "    </tr>\n",
              "  </tbody>\n",
              "</table>\n",
              "<p>4 rows × 58 columns</p>\n",
              "</div>\n",
              "      <button class=\"colab-df-convert\" onclick=\"convertToInteractive('df-04c0885d-d1b0-4c1d-9c05-86d54ae9cc39')\"\n",
              "              title=\"Convert this dataframe to an interactive table.\"\n",
              "              style=\"display:none;\">\n",
              "        \n",
              "  <svg xmlns=\"http://www.w3.org/2000/svg\" height=\"24px\"viewBox=\"0 0 24 24\"\n",
              "       width=\"24px\">\n",
              "    <path d=\"M0 0h24v24H0V0z\" fill=\"none\"/>\n",
              "    <path d=\"M18.56 5.44l.94 2.06.94-2.06 2.06-.94-2.06-.94-.94-2.06-.94 2.06-2.06.94zm-11 1L8.5 8.5l.94-2.06 2.06-.94-2.06-.94L8.5 2.5l-.94 2.06-2.06.94zm10 10l.94 2.06.94-2.06 2.06-.94-2.06-.94-.94-2.06-.94 2.06-2.06.94z\"/><path d=\"M17.41 7.96l-1.37-1.37c-.4-.4-.92-.59-1.43-.59-.52 0-1.04.2-1.43.59L10.3 9.45l-7.72 7.72c-.78.78-.78 2.05 0 2.83L4 21.41c.39.39.9.59 1.41.59.51 0 1.02-.2 1.41-.59l7.78-7.78 2.81-2.81c.8-.78.8-2.07 0-2.86zM5.41 20L4 18.59l7.72-7.72 1.47 1.35L5.41 20z\"/>\n",
              "  </svg>\n",
              "      </button>\n",
              "      \n",
              "  <style>\n",
              "    .colab-df-container {\n",
              "      display:flex;\n",
              "      flex-wrap:wrap;\n",
              "      gap: 12px;\n",
              "    }\n",
              "\n",
              "    .colab-df-convert {\n",
              "      background-color: #E8F0FE;\n",
              "      border: none;\n",
              "      border-radius: 50%;\n",
              "      cursor: pointer;\n",
              "      display: none;\n",
              "      fill: #1967D2;\n",
              "      height: 32px;\n",
              "      padding: 0 0 0 0;\n",
              "      width: 32px;\n",
              "    }\n",
              "\n",
              "    .colab-df-convert:hover {\n",
              "      background-color: #E2EBFA;\n",
              "      box-shadow: 0px 1px 2px rgba(60, 64, 67, 0.3), 0px 1px 3px 1px rgba(60, 64, 67, 0.15);\n",
              "      fill: #174EA6;\n",
              "    }\n",
              "\n",
              "    [theme=dark] .colab-df-convert {\n",
              "      background-color: #3B4455;\n",
              "      fill: #D2E3FC;\n",
              "    }\n",
              "\n",
              "    [theme=dark] .colab-df-convert:hover {\n",
              "      background-color: #434B5C;\n",
              "      box-shadow: 0px 1px 3px 1px rgba(0, 0, 0, 0.15);\n",
              "      filter: drop-shadow(0px 1px 2px rgba(0, 0, 0, 0.3));\n",
              "      fill: #FFFFFF;\n",
              "    }\n",
              "  </style>\n",
              "\n",
              "      <script>\n",
              "        const buttonEl =\n",
              "          document.querySelector('#df-04c0885d-d1b0-4c1d-9c05-86d54ae9cc39 button.colab-df-convert');\n",
              "        buttonEl.style.display =\n",
              "          google.colab.kernel.accessAllowed ? 'block' : 'none';\n",
              "\n",
              "        async function convertToInteractive(key) {\n",
              "          const element = document.querySelector('#df-04c0885d-d1b0-4c1d-9c05-86d54ae9cc39');\n",
              "          const dataTable =\n",
              "            await google.colab.kernel.invokeFunction('convertToInteractive',\n",
              "                                                     [key], {});\n",
              "          if (!dataTable) return;\n",
              "\n",
              "          const docLinkHtml = 'Like what you see? Visit the ' +\n",
              "            '<a target=\"_blank\" href=https://colab.research.google.com/notebooks/data_table.ipynb>data table notebook</a>'\n",
              "            + ' to learn more about interactive tables.';\n",
              "          element.innerHTML = '';\n",
              "          dataTable['output_type'] = 'display_data';\n",
              "          await google.colab.output.renderOutput(dataTable, element);\n",
              "          const docLink = document.createElement('div');\n",
              "          docLink.innerHTML = docLinkHtml;\n",
              "          element.appendChild(docLink);\n",
              "        }\n",
              "      </script>\n",
              "    </div>\n",
              "  </div>\n",
              "  "
            ]
          },
          "metadata": {},
          "execution_count": 70
        }
      ]
    },
    {
      "cell_type": "code",
      "source": [
        "gt.dtypes"
      ],
      "metadata": {
        "colab": {
          "base_uri": "https://localhost:8080/"
        },
        "id": "JkDeBpkPss6X",
        "outputId": "86f1a1fa-703f-48bf-fdac-39d0e99a2ab2"
      },
      "execution_count": null,
      "outputs": [
        {
          "output_type": "execute_result",
          "data": {
            "text/plain": [
              "eventid        int64\n",
              "iyear          int64\n",
              "imonth         int64\n",
              "iday           int64\n",
              "approxdate    object\n",
              "               ...  \n",
              "INT_LOG        int64\n",
              "INT_IDEO       int64\n",
              "INT_MISC       int64\n",
              "INT_ANY        int64\n",
              "related       object\n",
              "Length: 135, dtype: object"
            ]
          },
          "metadata": {},
          "execution_count": 71
        }
      ]
    },
    {
      "cell_type": "code",
      "source": [
        "for column in gt:\n",
        "    print(gt[column])"
      ],
      "metadata": {
        "id": "7gZhc7-vss9W"
      },
      "execution_count": null,
      "outputs": []
    },
    {
      "cell_type": "code",
      "source": [
        "gt[\"approxdate\"] = gt.approxdate.fillna(\"Not known\")\n",
        "gt.approxdate.unique()"
      ],
      "metadata": {
        "colab": {
          "base_uri": "https://localhost:8080/"
        },
        "id": "23jmuwTxstAr",
        "outputId": "d083123a-ec91-4c53-fde3-e5fb2752c1b3"
      },
      "execution_count": null,
      "outputs": [
        {
          "output_type": "execute_result",
          "data": {
            "text/plain": [
              "array(['Not known', 'January 19-20, 1970', 'February 6-9, 1970', ...,\n",
              "       '2017-12-29 00:00:00', 'December 25, 2017-January 5, 2018',\n",
              "       '2017-12-31 00:00:00'], dtype=object)"
            ]
          },
          "metadata": {},
          "execution_count": 74
        }
      ]
    },
    {
      "cell_type": "code",
      "source": [
        "gt.approxdate.isnull().sum()"
      ],
      "metadata": {
        "colab": {
          "base_uri": "https://localhost:8080/"
        },
        "id": "heFtMjBfstDL",
        "outputId": "a65f2cfb-be43-4728-be61-1a8e9ce28a51"
      },
      "execution_count": null,
      "outputs": [
        {
          "output_type": "execute_result",
          "data": {
            "text/plain": [
              "0"
            ]
          },
          "metadata": {},
          "execution_count": 75
        }
      ]
    },
    {
      "cell_type": "code",
      "source": [
        "gt.select_dtypes(include=\"number\").isnull().sum()\n"
      ],
      "metadata": {
        "colab": {
          "base_uri": "https://localhost:8080/"
        },
        "id": "5QyFZXOZstV6",
        "outputId": "a1af1046-0ec4-4f45-d2f8-c40b8721ce2d"
      },
      "execution_count": null,
      "outputs": [
        {
          "output_type": "execute_result",
          "data": {
            "text/plain": [
              "eventid      0\n",
              "iyear        0\n",
              "imonth       0\n",
              "iday         0\n",
              "extended     0\n",
              "            ..\n",
              "nreleased    0\n",
              "INT_LOG      0\n",
              "INT_IDEO     0\n",
              "INT_MISC     0\n",
              "INT_ANY      0\n",
              "Length: 77, dtype: int64"
            ]
          },
          "metadata": {},
          "execution_count": 82
        }
      ]
    },
    {
      "cell_type": "code",
      "source": [
        "gt[\"nreleased\"] = gt.nreleased.fillna(0)\n",
        "gt.nreleased.unique()"
      ],
      "metadata": {
        "colab": {
          "base_uri": "https://localhost:8080/"
        },
        "id": "lYdcwTWJstXt",
        "outputId": "6614a4f3-0a9c-45cb-b066-2c69e2aa8801"
      },
      "execution_count": null,
      "outputs": [
        {
          "output_type": "execute_result",
          "data": {
            "text/plain": [
              "array([ 0.000e+00,  1.000e+00,  5.000e+00,  6.000e+01,  1.000e+01,\n",
              "        1.550e+02,  1.750e+02,  3.000e+00,  4.000e+00,  6.000e+00,\n",
              "        2.600e+01,  1.870e+02,  1.050e+02,  2.000e+00,  8.200e+01,\n",
              "        1.300e+01,  4.800e+01, -9.900e+01,  1.600e+01,  8.000e+00,\n",
              "        2.300e+01,  2.500e+01,  9.200e+01,  7.000e+00,  1.200e+01,\n",
              "        7.000e+01,  5.600e+01,  1.400e+01,  3.400e+01,  6.600e+01,\n",
              "        4.400e+01,  3.000e+01,  1.370e+02,  1.800e+01,  1.100e+02,\n",
              "        1.470e+02,  4.300e+01,  5.000e+01,  5.400e+01,  1.130e+02,\n",
              "        2.150e+02,  7.900e+01,  3.800e+01,  1.020e+02,  1.380e+02,\n",
              "        1.000e+02,  9.000e+01,  9.000e+00,  2.100e+01,  1.140e+02,\n",
              "        3.900e+02,  1.890e+02,  2.640e+02,  4.600e+01,  1.180e+02,\n",
              "        1.310e+02,  1.270e+02,  1.570e+02,  3.300e+01,  9.700e+01,\n",
              "        7.100e+01,  1.610e+02,  1.520e+02,  2.200e+01,  1.250e+02,\n",
              "        1.510e+02,  1.290e+02,  4.200e+01,  3.100e+01,  3.200e+01,\n",
              "        1.620e+02,  8.800e+01,  1.440e+02,  1.150e+02,  1.900e+01,\n",
              "        4.000e+01,  1.100e+01,  1.300e+02,  1.390e+02,  1.560e+02,\n",
              "        2.700e+01,  1.640e+02,  6.900e+01,  3.600e+01,  1.070e+02,\n",
              "        1.990e+02,  2.010e+02,  1.500e+01,  8.000e+01,  4.700e+01,\n",
              "        2.000e+01,  1.700e+01,  8.300e+01,  2.400e+01,  6.400e+01,\n",
              "        2.300e+02,  8.100e+01,  1.880e+02,  7.500e+02,  3.900e+01,\n",
              "        4.960e+02,  1.650e+02,  9.100e+01,  1.720e+02,  1.040e+02,\n",
              "        5.100e+01,  1.900e+02,  4.100e+01,  2.800e+01,  6.200e+01,\n",
              "        2.900e+01,  6.100e+01,  7.800e+02,  2.670e+02,  1.830e+02,\n",
              "        8.560e+02,  2.070e+02,  9.900e+01,  2.000e+02,  1.030e+02,\n",
              "        3.250e+02,  3.500e+01,  6.300e+01,  9.500e+01,  1.280e+02,\n",
              "        4.000e+02,  7.000e+02,  1.260e+02,  1.201e+03,  4.500e+01,\n",
              "        4.900e+01,  7.300e+01,  8.370e+02,  9.300e+01,  1.690e+02,\n",
              "        1.530e+02,  8.500e+01,  2.769e+03,  5.110e+02,  1.920e+02,\n",
              "        2.310e+02,  3.000e+02,  1.010e+02,  3.010e+02,  1.700e+02,\n",
              "        5.700e+01,  1.080e+02,  1.400e+02,  5.500e+01,  6.000e+02,\n",
              "        7.960e+02,  1.000e+03,  7.800e+01,  3.220e+02,  2.350e+02,\n",
              "        5.740e+02])"
            ]
          },
          "metadata": {},
          "execution_count": 78
        }
      ]
    },
    {
      "cell_type": "code",
      "source": [
        "gt.nreleased.isnull().sum()"
      ],
      "metadata": {
        "colab": {
          "base_uri": "https://localhost:8080/"
        },
        "id": "l8ZeLSEOstZa",
        "outputId": "60d3f728-ac90-44b3-9a8b-d0296ae6ff9b"
      },
      "execution_count": null,
      "outputs": [
        {
          "output_type": "execute_result",
          "data": {
            "text/plain": [
              "0"
            ]
          },
          "metadata": {},
          "execution_count": 81
        }
      ]
    },
    {
      "cell_type": "code",
      "source": [
        "gt.select_dtypes(include=\"number\").isnull().sum().sort_values().head(60)"
      ],
      "metadata": {
        "id": "igo2Twe5stbT"
      },
      "execution_count": null,
      "outputs": []
    },
    {
      "cell_type": "code",
      "source": [
        "gt[\"doubtterr\"] = gt.doubtterr.fillna(0)\n",
        "gt.doubtterr.unique()"
      ],
      "metadata": {
        "id": "dnLNZNilstc0",
        "colab": {
          "base_uri": "https://localhost:8080/"
        },
        "outputId": "ce34224b-2f3d-4c3b-8b98-31b2aadbdd63"
      },
      "execution_count": null,
      "outputs": [
        {
          "output_type": "execute_result",
          "data": {
            "text/plain": [
              "array([ 0., -9.,  1.])"
            ]
          },
          "metadata": {},
          "execution_count": 94
        }
      ]
    },
    {
      "cell_type": "code",
      "source": [
        "gt[\"ishostkid\"] = gt.ishostkid.fillna(0)\n",
        "gt.ishostkid.unique()"
      ],
      "metadata": {
        "id": "tu-hgbUWstd0",
        "colab": {
          "base_uri": "https://localhost:8080/"
        },
        "outputId": "4866576a-3f9e-4c69-f991-b346d07ea36c"
      },
      "execution_count": null,
      "outputs": [
        {
          "output_type": "execute_result",
          "data": {
            "text/plain": [
              "array([ 0.,  1., -9.])"
            ]
          },
          "metadata": {},
          "execution_count": 99
        }
      ]
    },
    {
      "cell_type": "code",
      "source": [
        "gt[\"natlty1\"] = gt.natlty1.fillna(0)\n",
        "gt.natlty1.unique()"
      ],
      "metadata": {
        "id": "oFt7JzmSstes",
        "colab": {
          "base_uri": "https://localhost:8080/"
        },
        "outputId": "3c8f25f5-cd7f-42cc-e405-8e454b5a5f82"
      },
      "execution_count": null,
      "outputs": [
        {
          "output_type": "execute_result",
          "data": {
            "text/plain": [
              "array([  58.,   21.,  217.,  218.,   75.,  216.,  222.,  163.,   97.,\n",
              "         15.,  199.,  102.,   65.,  185.,    0.,  101.,  422.,   60.,\n",
              "        158.,  359.,   96.,   11.,  160.,   44.,  155.,  999.,  233.,\n",
              "         30.,   87.,  183.,  162.,   45.,   78.,  145.,   93.,  235.,\n",
              "         98.,  403.,   99.,   94.,   38.,  161.,  198.,  209.,   49.,\n",
              "        167.,   95.,   51.,   69.,  120.,  229.,  142.,   43.,   89.,\n",
              "        228.,  130.,  200.,   92.,  144.,  174.,    6.,  159.,  236.,\n",
              "        173.,   55.,  362.,   17.,   26.,   61.,   29.,   83.,  110.,\n",
              "        149.,    5.,  184.,  603.,  153.,  104.,   53.,  156.,  186.,\n",
              "         59.,  121.,  136.,  182.,  147.,  139.,   12.,   20.,  106.,\n",
              "        137.,   86.,  201.,  208.,  138.,  207.,  128.,   32.,  205.,\n",
              "         18.,   68.,  223.,  215.,  124.,   14.,  231.,  230.,    8.,\n",
              "        151.,  100.,  213.,   50.,  111.,  203.,   84.,   67.,   56.,\n",
              "        113.,   63.,    4.,   88.,  604.,  123.,   19.,   80.,  220.,\n",
              "         22.,  377.,  166.,  195.,   42.,   41.,  112.,  176.,   57.,\n",
              "        605.,   46.,  196.,  221.,  115.,   81.,  127.,  349.,  197.,\n",
              "         33.,  125.,  143.,   36.,  178.,  238.,  116.,  146.,  141.,\n",
              "         90.,  204.,   91.,  520.,   76.,  122.,  129.,  157.,  164.,\n",
              "        168.,   37.,   64.,  177.,  109.,   79.,   28.,  119.,   34.,\n",
              "         16.,  103.,   74.,   10.,  351.,  214.,  132.,   62.,  202.,\n",
              "        108.,   31.,  219.,  175.,   47.,   72.,  179.,  118.,  134.,\n",
              "         23.,   35.,  152.,   54.,   73.,  334., 1001.,  189.,  107.,\n",
              "        117.,  180.,   70.,  347., 1003.,  181.,  190.,   85., 1002.,\n",
              "         25.,   24.,  192., 1004.,  210.,  169.,  212.,  225.,  126.])"
            ]
          },
          "metadata": {},
          "execution_count": 103
        }
      ]
    },
    {
      "cell_type": "code",
      "source": [
        "gt[\"latitude\"] = gt.latitude.fillna(0)\n",
        "gt.latitude.unique()"
      ],
      "metadata": {
        "id": "0HEEyoMKstfp",
        "colab": {
          "base_uri": "https://localhost:8080/"
        },
        "outputId": "a272451b-2bc1-4ac5-bd1a-bab292125f0a"
      },
      "execution_count": null,
      "outputs": [
        {
          "output_type": "execute_result",
          "data": {
            "text/plain": [
              "array([18.456792, 19.371887, 15.478598, ...,  2.359673, 35.407278,\n",
              "        6.900742])"
            ]
          },
          "metadata": {},
          "execution_count": 106
        }
      ]
    },
    {
      "cell_type": "code",
      "source": [
        "gt[\"multiple\"] = gt.multiple.fillna(0)\n",
        "gt.multiple.unique()"
      ],
      "metadata": {
        "id": "LC01GSR3stgq",
        "colab": {
          "base_uri": "https://localhost:8080/"
        },
        "outputId": "557dfa0c-12a0-427b-d1d1-710bc9f1f5b0"
      },
      "execution_count": null,
      "outputs": [
        {
          "output_type": "execute_result",
          "data": {
            "text/plain": [
              "array([0., 1.])"
            ]
          },
          "metadata": {},
          "execution_count": 110
        }
      ]
    },
    {
      "cell_type": "code",
      "source": [
        "gt[\"specificity\"] = gt.specificity.fillna(0)\n",
        "gt.specificity.unique()"
      ],
      "metadata": {
        "id": "83IljF_Osthq",
        "colab": {
          "base_uri": "https://localhost:8080/"
        },
        "outputId": "bd3f1754-87c7-4840-cb85-01b17293ab68"
      },
      "execution_count": null,
      "outputs": [
        {
          "output_type": "execute_result",
          "data": {
            "text/plain": [
              "array([1., 4., 5., 2., 3., 0.])"
            ]
          },
          "metadata": {},
          "execution_count": 113
        }
      ]
    },
    {
      "cell_type": "code",
      "source": [
        "gt[\"guncertain1\"] = gt.guncertain1.fillna(0)\n",
        "gt.guncertain1.unique()"
      ],
      "metadata": {
        "id": "DwBdH_Dlstj4",
        "colab": {
          "base_uri": "https://localhost:8080/"
        },
        "outputId": "cc61c789-f8d7-4997-da33-df837a8787c8"
      },
      "execution_count": null,
      "outputs": [
        {
          "output_type": "execute_result",
          "data": {
            "text/plain": [
              "array([0., 1.])"
            ]
          },
          "metadata": {},
          "execution_count": 115
        }
      ]
    },
    {
      "cell_type": "code",
      "source": [
        "gt=gt.apply(lambda x: x.fillna(0) if x.dtype.kind in 'biufc' else x.fillna('.'))"
      ],
      "metadata": {
        "id": "50goi9bSstmi"
      },
      "execution_count": null,
      "outputs": []
    },
    {
      "cell_type": "code",
      "source": [
        "gt.select_dtypes(exclude='number').columns"
      ],
      "metadata": {
        "id": "ACjMIllmstpo",
        "colab": {
          "base_uri": "https://localhost:8080/"
        },
        "outputId": "961106a5-1381-402f-817c-2d63926d58c1"
      },
      "execution_count": null,
      "outputs": [
        {
          "output_type": "execute_result",
          "data": {
            "text/plain": [
              "Index(['approxdate', 'resolution', 'country_txt', 'region_txt', 'provstate',\n",
              "       'city', 'location', 'summary', 'alternative_txt', 'attacktype1_txt',\n",
              "       'attacktype2_txt', 'attacktype3_txt', 'targtype1_txt',\n",
              "       'targsubtype1_txt', 'corp1', 'target1', 'natlty1_txt', 'targtype2_txt',\n",
              "       'targsubtype2_txt', 'corp2', 'target2', 'natlty2_txt', 'targtype3_txt',\n",
              "       'targsubtype3_txt', 'corp3', 'target3', 'natlty3_txt', 'gname',\n",
              "       'gsubname', 'gname2', 'gsubname2', 'gname3', 'gsubname3', 'motive',\n",
              "       'claimmode_txt', 'claimmode2_txt', 'claimmode3_txt', 'weaptype1_txt',\n",
              "       'weapsubtype1_txt', 'weaptype2_txt', 'weapsubtype2_txt',\n",
              "       'weaptype3_txt', 'weapsubtype3_txt', 'weaptype4_txt',\n",
              "       'weapsubtype4_txt', 'weapdetail', 'propextent_txt', 'propcomment',\n",
              "       'divert', 'kidhijcountry', 'ransomnote', 'hostkidoutcome_txt',\n",
              "       'addnotes', 'scite1', 'scite2', 'scite3', 'dbsource', 'related'],\n",
              "      dtype='object')"
            ]
          },
          "metadata": {},
          "execution_count": 134
        }
      ]
    },
    {
      "cell_type": "code",
      "source": [
        "gt['resolution']=gt['resolution'].map(lambda x : x.replace(\".\",\"Unknown\"))\n",
        "gt['country_txt']=gt['country_txt'].map(lambda x : x.replace(\".\",\"Unknown\"))\n",
        "gt['provstate']=gt['provstate'].map(lambda x : x.replace(\".\",\"Unknown\"))\n",
        "gt['city']=gt['city'].map(lambda x : x.replace(\"Unknown\",\"\"))\n",
        "gt['location']=gt['location'].map(lambda x : x.replace(\".\",\"Unknown\"))\n",
        "gt['summary']=gt['summary'].map(lambda x : x.replace(\".\",\"-Blank-\"))\n",
        "gt['alternative_txt']=gt['alternative_txt'].map(lambda x : x.replace(\".\",\"-Blank-\"))\n",
        "gt['attacktype2_txt']=gt['attacktype2_txt'].map(lambda x : x.replace(\".\",\"-Blank-\"))\n",
        "gt['attacktype3_txt']=gt['attacktype3_txt'].map(lambda x : x.replace(\".\",\"-Blank-\"))\n",
        "gt['corp1']=gt['corp1'].map(lambda x : x.replace(\".\",\"Unknown\"))\n",
        "gt['target1']=gt['target1'].map(lambda x : x.replace(\".\",\"Unknown\"))\n",
        "gt['natlty1_txt']=gt['natlty1_txt'].map(lambda x : x.replace(\".\",\"Unknown\"))\n",
        "gt['targtype2_txt']=gt['targtype2_txt'].map(lambda x : x.replace(\".\",\"-Blank-\"))\n",
        "gt['targsubtype2_txt']=gt['targsubtype2_txt'].map(lambda x : x.replace(\".\",\"-Blank-\"))\n",
        "gt['corp2']=gt['corp2'].map(lambda x : x.replace(\".\",\"Unknown\"))\n",
        "gt['target2']=gt['target2'].map(lambda x : x.replace(\".\",\"Unknown\"))\n",
        "gt['natlty2_txt']=gt['natlty2_txt'].map(lambda x : x.replace(\".\",\"Unknown\"))\n",
        "gt['targtype3_txt']=gt['targtype3_txt'].map(lambda x : x.replace(\".\",\"Unknown\"))\n",
        "gt['targsubtype3_txt']=gt['targsubtype3_txt'].map(lambda x : x.replace(\".\",\"Unknown\"))\n",
        "gt['corp3']=gt['corp3'].map(lambda x : x.replace(\".\",\"Unknown\"))\n",
        "gt['target3']=gt['target3'].map(lambda x : x.replace(\".\",\"Unknown\"))\n",
        "gt['natlty3_txt']=gt['natlty3_txt'].map(lambda x : x.replace(\".\",\"Unknown\"))\n",
        "gt['gsubname']=gt['gsubname'].map(lambda x : x.replace(\".\",\"Unknown\"))\n",
        "gt['gname2']=gt['gname2'].map(lambda x : x.replace(\".\",\"Unknown\"))\n",
        "gt['gsubname2']=gt['gsubname2'].map(lambda x : x.replace(\".\",\"Unknown\"))\n",
        "gt['gname3']=gt['gname3'].map(lambda x : x.replace(\".\",\"Unknown\"))\n",
        "gt['gsubname3']=gt['gsubname3'].map(lambda x : x.replace(\".\",\"Unknown\"))\n",
        "gt['motive']=gt['motive'].map(lambda x : x.replace(\".\",\"Unknown\"))\n",
        "gt['claimmode_txt']=gt['claimmode_txt'].map(lambda x : x.replace(\".\",\"Unknown\"))\n",
        "gt['claimmode2_txt']=gt['claimmode2_txt'].map(lambda x : x.replace(\".\",\"Unknown\"))\n",
        "gt['claimmode3_txt']=gt['claimmode3_txt'].map(lambda x : x.replace(\".\",\"Unknown\"))\n",
        "gt['weapsubtype1_txt']=gt['weapsubtype1_txt'].map(lambda x : x.replace(\".\",\"Unknown\"))\n",
        "gt['weaptype2_txt']=gt['weaptype2_txt'].map(lambda x : x.replace(\".\",\"Unknown\"))\n",
        "gt['weapsubtype2_txt']=gt['weapsubtype2_txt'].map(lambda x : x.replace(\".\",\"Unknown\"))\n",
        "gt['weaptype3_txt']=gt['weaptype3_txt'].map(lambda x : x.replace(\".\",\"Unknown\"))\n",
        "gt['weapsubtype3_txt']=gt['weapsubtype3_txt'].map(lambda x : x.replace(\".\",\"Unknown\"))\n",
        "gt['weaptype4_txt']=gt['weaptype4_txt'].map(lambda x : x.replace(\".\",\"Unknown\"))\n",
        "gt['weapsubtype4_txt']=gt['weapsubtype4_txt'].map(lambda x : x.replace(\".\",\"Unknown\"))\n",
        "gt['weapdetail']=gt['weapdetail'].map(lambda x : x.replace(\".\",\"Unknown\"))\n",
        "gt['propextent_txt']=gt['propextent_txt'].map(lambda x : x.replace(\".\",\"Unknown\"))\n",
        "gt['propcomment']=gt['propcomment'].map(lambda x : x.replace(\".\",\"-Blank-\"))\n",
        "gt['divert']=gt['divert'].map(lambda x : x.replace(\".\",\"Unknown\"))\n",
        "gt['kidhijcountry']=gt['kidhijcountry'].map(lambda x : x.replace(\".\",\"Unknown\"))\n",
        "gt['ransomnote']=gt['ransomnote'].map(lambda x : x.replace(\".\",\"-Blank-\"))\n",
        "gt['hostkidoutcome_txt']=gt['hostkidoutcome_txt'].map(lambda x : x.replace(\".\",\"Unknown\"))\n",
        "gt['addnotes']=gt['addnotes'].map(lambda x : x.replace(\".\",\"-Blank-\"))\n",
        "gt['related']=gt['related'].map(lambda x : x.replace(\".\",\"-Blank-\"))"
      ],
      "metadata": {
        "id": "GLetCms0stsM"
      },
      "execution_count": null,
      "outputs": []
    },
    {
      "cell_type": "code",
      "source": [
        "gt.related.unique()"
      ],
      "metadata": {
        "id": "ByJnyHSnstv1",
        "colab": {
          "base_uri": "https://localhost:8080/"
        },
        "outputId": "c833e2d6-3d41-41d7-ceb8-d76c52ff991c"
      },
      "execution_count": null,
      "outputs": [
        {
          "output_type": "execute_result",
          "data": {
            "text/plain": [
              "array(['-Blank-', '197001300001, 197001300002',\n",
              "       '197002030001, 197002030002', ...,\n",
              "       '201712290022, 201712290023, 201712290024',\n",
              "       '201712290031, 201712290032', '201712300005, 201712310002'],\n",
              "      dtype=object)"
            ]
          },
          "metadata": {},
          "execution_count": 256
        }
      ]
    },
    {
      "cell_type": "code",
      "source": [
        "gt.head()"
      ],
      "metadata": {
        "id": "dpOL_ky2styw",
        "colab": {
          "base_uri": "https://localhost:8080/",
          "height": 317
        },
        "outputId": "c1e70117-7263-46ca-b763-df68d7d42cca"
      },
      "execution_count": null,
      "outputs": [
        {
          "output_type": "execute_result",
          "data": {
            "text/plain": [
              "        eventid  iyear  imonth  iday approxdate  extended resolution  country  \\\n",
              "0  197000000001   1970       7     2  Not known         0    Unknown       58   \n",
              "1  197000000002   1970       0     0  Not known         0    Unknown      130   \n",
              "2  197001000001   1970       1     0  Not known         0    Unknown      160   \n",
              "3  197001000002   1970       1     0  Not known         0    Unknown       78   \n",
              "4  197001000003   1970       1     0  Not known         0    Unknown      101   \n",
              "\n",
              "          country_txt  region  ... addnotes scite1 scite2  scite3  dbsource  \\\n",
              "0  Dominican Republic       2  ...  -Blank-      .      .       .      PGIS   \n",
              "1              Mexico       1  ...  -Blank-      .      .       .      PGIS   \n",
              "2         Philippines       5  ...  -Blank-      .      .       .      PGIS   \n",
              "3              Greece       8  ...  -Blank-      .      .       .      PGIS   \n",
              "4               Japan       4  ...  -Blank-      .      .       .      PGIS   \n",
              "\n",
              "   INT_LOG  INT_IDEO INT_MISC INT_ANY  related  \n",
              "0        0         0        0       0  -Blank-  \n",
              "1        0         1        1       1  -Blank-  \n",
              "2       -9        -9        1       1  -Blank-  \n",
              "3       -9        -9        1       1  -Blank-  \n",
              "4       -9        -9        1       1  -Blank-  \n",
              "\n",
              "[5 rows x 135 columns]"
            ],
            "text/html": [
              "\n",
              "  <div id=\"df-0c5c1180-d647-425d-8fce-44baf0a99f89\">\n",
              "    <div class=\"colab-df-container\">\n",
              "      <div>\n",
              "<style scoped>\n",
              "    .dataframe tbody tr th:only-of-type {\n",
              "        vertical-align: middle;\n",
              "    }\n",
              "\n",
              "    .dataframe tbody tr th {\n",
              "        vertical-align: top;\n",
              "    }\n",
              "\n",
              "    .dataframe thead th {\n",
              "        text-align: right;\n",
              "    }\n",
              "</style>\n",
              "<table border=\"1\" class=\"dataframe\">\n",
              "  <thead>\n",
              "    <tr style=\"text-align: right;\">\n",
              "      <th></th>\n",
              "      <th>eventid</th>\n",
              "      <th>iyear</th>\n",
              "      <th>imonth</th>\n",
              "      <th>iday</th>\n",
              "      <th>approxdate</th>\n",
              "      <th>extended</th>\n",
              "      <th>resolution</th>\n",
              "      <th>country</th>\n",
              "      <th>country_txt</th>\n",
              "      <th>region</th>\n",
              "      <th>...</th>\n",
              "      <th>addnotes</th>\n",
              "      <th>scite1</th>\n",
              "      <th>scite2</th>\n",
              "      <th>scite3</th>\n",
              "      <th>dbsource</th>\n",
              "      <th>INT_LOG</th>\n",
              "      <th>INT_IDEO</th>\n",
              "      <th>INT_MISC</th>\n",
              "      <th>INT_ANY</th>\n",
              "      <th>related</th>\n",
              "    </tr>\n",
              "  </thead>\n",
              "  <tbody>\n",
              "    <tr>\n",
              "      <th>0</th>\n",
              "      <td>197000000001</td>\n",
              "      <td>1970</td>\n",
              "      <td>7</td>\n",
              "      <td>2</td>\n",
              "      <td>Not known</td>\n",
              "      <td>0</td>\n",
              "      <td>Unknown</td>\n",
              "      <td>58</td>\n",
              "      <td>Dominican Republic</td>\n",
              "      <td>2</td>\n",
              "      <td>...</td>\n",
              "      <td>-Blank-</td>\n",
              "      <td>.</td>\n",
              "      <td>.</td>\n",
              "      <td>.</td>\n",
              "      <td>PGIS</td>\n",
              "      <td>0</td>\n",
              "      <td>0</td>\n",
              "      <td>0</td>\n",
              "      <td>0</td>\n",
              "      <td>-Blank-</td>\n",
              "    </tr>\n",
              "    <tr>\n",
              "      <th>1</th>\n",
              "      <td>197000000002</td>\n",
              "      <td>1970</td>\n",
              "      <td>0</td>\n",
              "      <td>0</td>\n",
              "      <td>Not known</td>\n",
              "      <td>0</td>\n",
              "      <td>Unknown</td>\n",
              "      <td>130</td>\n",
              "      <td>Mexico</td>\n",
              "      <td>1</td>\n",
              "      <td>...</td>\n",
              "      <td>-Blank-</td>\n",
              "      <td>.</td>\n",
              "      <td>.</td>\n",
              "      <td>.</td>\n",
              "      <td>PGIS</td>\n",
              "      <td>0</td>\n",
              "      <td>1</td>\n",
              "      <td>1</td>\n",
              "      <td>1</td>\n",
              "      <td>-Blank-</td>\n",
              "    </tr>\n",
              "    <tr>\n",
              "      <th>2</th>\n",
              "      <td>197001000001</td>\n",
              "      <td>1970</td>\n",
              "      <td>1</td>\n",
              "      <td>0</td>\n",
              "      <td>Not known</td>\n",
              "      <td>0</td>\n",
              "      <td>Unknown</td>\n",
              "      <td>160</td>\n",
              "      <td>Philippines</td>\n",
              "      <td>5</td>\n",
              "      <td>...</td>\n",
              "      <td>-Blank-</td>\n",
              "      <td>.</td>\n",
              "      <td>.</td>\n",
              "      <td>.</td>\n",
              "      <td>PGIS</td>\n",
              "      <td>-9</td>\n",
              "      <td>-9</td>\n",
              "      <td>1</td>\n",
              "      <td>1</td>\n",
              "      <td>-Blank-</td>\n",
              "    </tr>\n",
              "    <tr>\n",
              "      <th>3</th>\n",
              "      <td>197001000002</td>\n",
              "      <td>1970</td>\n",
              "      <td>1</td>\n",
              "      <td>0</td>\n",
              "      <td>Not known</td>\n",
              "      <td>0</td>\n",
              "      <td>Unknown</td>\n",
              "      <td>78</td>\n",
              "      <td>Greece</td>\n",
              "      <td>8</td>\n",
              "      <td>...</td>\n",
              "      <td>-Blank-</td>\n",
              "      <td>.</td>\n",
              "      <td>.</td>\n",
              "      <td>.</td>\n",
              "      <td>PGIS</td>\n",
              "      <td>-9</td>\n",
              "      <td>-9</td>\n",
              "      <td>1</td>\n",
              "      <td>1</td>\n",
              "      <td>-Blank-</td>\n",
              "    </tr>\n",
              "    <tr>\n",
              "      <th>4</th>\n",
              "      <td>197001000003</td>\n",
              "      <td>1970</td>\n",
              "      <td>1</td>\n",
              "      <td>0</td>\n",
              "      <td>Not known</td>\n",
              "      <td>0</td>\n",
              "      <td>Unknown</td>\n",
              "      <td>101</td>\n",
              "      <td>Japan</td>\n",
              "      <td>4</td>\n",
              "      <td>...</td>\n",
              "      <td>-Blank-</td>\n",
              "      <td>.</td>\n",
              "      <td>.</td>\n",
              "      <td>.</td>\n",
              "      <td>PGIS</td>\n",
              "      <td>-9</td>\n",
              "      <td>-9</td>\n",
              "      <td>1</td>\n",
              "      <td>1</td>\n",
              "      <td>-Blank-</td>\n",
              "    </tr>\n",
              "  </tbody>\n",
              "</table>\n",
              "<p>5 rows × 135 columns</p>\n",
              "</div>\n",
              "      <button class=\"colab-df-convert\" onclick=\"convertToInteractive('df-0c5c1180-d647-425d-8fce-44baf0a99f89')\"\n",
              "              title=\"Convert this dataframe to an interactive table.\"\n",
              "              style=\"display:none;\">\n",
              "        \n",
              "  <svg xmlns=\"http://www.w3.org/2000/svg\" height=\"24px\"viewBox=\"0 0 24 24\"\n",
              "       width=\"24px\">\n",
              "    <path d=\"M0 0h24v24H0V0z\" fill=\"none\"/>\n",
              "    <path d=\"M18.56 5.44l.94 2.06.94-2.06 2.06-.94-2.06-.94-.94-2.06-.94 2.06-2.06.94zm-11 1L8.5 8.5l.94-2.06 2.06-.94-2.06-.94L8.5 2.5l-.94 2.06-2.06.94zm10 10l.94 2.06.94-2.06 2.06-.94-2.06-.94-.94-2.06-.94 2.06-2.06.94z\"/><path d=\"M17.41 7.96l-1.37-1.37c-.4-.4-.92-.59-1.43-.59-.52 0-1.04.2-1.43.59L10.3 9.45l-7.72 7.72c-.78.78-.78 2.05 0 2.83L4 21.41c.39.39.9.59 1.41.59.51 0 1.02-.2 1.41-.59l7.78-7.78 2.81-2.81c.8-.78.8-2.07 0-2.86zM5.41 20L4 18.59l7.72-7.72 1.47 1.35L5.41 20z\"/>\n",
              "  </svg>\n",
              "      </button>\n",
              "      \n",
              "  <style>\n",
              "    .colab-df-container {\n",
              "      display:flex;\n",
              "      flex-wrap:wrap;\n",
              "      gap: 12px;\n",
              "    }\n",
              "\n",
              "    .colab-df-convert {\n",
              "      background-color: #E8F0FE;\n",
              "      border: none;\n",
              "      border-radius: 50%;\n",
              "      cursor: pointer;\n",
              "      display: none;\n",
              "      fill: #1967D2;\n",
              "      height: 32px;\n",
              "      padding: 0 0 0 0;\n",
              "      width: 32px;\n",
              "    }\n",
              "\n",
              "    .colab-df-convert:hover {\n",
              "      background-color: #E2EBFA;\n",
              "      box-shadow: 0px 1px 2px rgba(60, 64, 67, 0.3), 0px 1px 3px 1px rgba(60, 64, 67, 0.15);\n",
              "      fill: #174EA6;\n",
              "    }\n",
              "\n",
              "    [theme=dark] .colab-df-convert {\n",
              "      background-color: #3B4455;\n",
              "      fill: #D2E3FC;\n",
              "    }\n",
              "\n",
              "    [theme=dark] .colab-df-convert:hover {\n",
              "      background-color: #434B5C;\n",
              "      box-shadow: 0px 1px 3px 1px rgba(0, 0, 0, 0.15);\n",
              "      filter: drop-shadow(0px 1px 2px rgba(0, 0, 0, 0.3));\n",
              "      fill: #FFFFFF;\n",
              "    }\n",
              "  </style>\n",
              "\n",
              "      <script>\n",
              "        const buttonEl =\n",
              "          document.querySelector('#df-0c5c1180-d647-425d-8fce-44baf0a99f89 button.colab-df-convert');\n",
              "        buttonEl.style.display =\n",
              "          google.colab.kernel.accessAllowed ? 'block' : 'none';\n",
              "\n",
              "        async function convertToInteractive(key) {\n",
              "          const element = document.querySelector('#df-0c5c1180-d647-425d-8fce-44baf0a99f89');\n",
              "          const dataTable =\n",
              "            await google.colab.kernel.invokeFunction('convertToInteractive',\n",
              "                                                     [key], {});\n",
              "          if (!dataTable) return;\n",
              "\n",
              "          const docLinkHtml = 'Like what you see? Visit the ' +\n",
              "            '<a target=\"_blank\" href=https://colab.research.google.com/notebooks/data_table.ipynb>data table notebook</a>'\n",
              "            + ' to learn more about interactive tables.';\n",
              "          element.innerHTML = '';\n",
              "          dataTable['output_type'] = 'display_data';\n",
              "          await google.colab.output.renderOutput(dataTable, element);\n",
              "          const docLink = document.createElement('div');\n",
              "          docLink.innerHTML = docLinkHtml;\n",
              "          element.appendChild(docLink);\n",
              "        }\n",
              "      </script>\n",
              "    </div>\n",
              "  </div>\n",
              "  "
            ]
          },
          "metadata": {},
          "execution_count": 260
        }
      ]
    },
    {
      "cell_type": "code",
      "source": [
        "print(\"Country with the most attacks : \",gt.country_txt.value_counts().idxmax())\n",
        "print(\"City with the most attacks : \",gt.city.value_counts().idxmax())\n",
        "print(\"Region with the most attacks : \",gt.region_txt.value_counts().idxmax())\n"
      ],
      "metadata": {
        "id": "dy6MvWozst1k",
        "colab": {
          "base_uri": "https://localhost:8080/"
        },
        "outputId": "16dd1ab7-6d57-423d-f274-218664489974"
      },
      "execution_count": null,
      "outputs": [
        {
          "output_type": "stream",
          "name": "stdout",
          "text": [
            "Country with the most attacks :  Iraq\n",
            "City with the most attacks :  \n",
            "Region with the most attacks :  Middle East & North Africa\n"
          ]
        }
      ]
    },
    {
      "cell_type": "code",
      "source": [
        "gt['city']=gt['city'].map(lambda x : x.replace(\"Unknown\",\"\"))"
      ],
      "metadata": {
        "id": "0x6eiudXst4i"
      },
      "execution_count": null,
      "outputs": []
    },
    {
      "cell_type": "code",
      "source": [
        "gt.city.unique()"
      ],
      "metadata": {
        "id": "avOnqLyvst7q",
        "colab": {
          "base_uri": "https://localhost:8080/"
        },
        "outputId": "7120f05a-ac2b-4205-f65e-36eabf5e5dd6"
      },
      "execution_count": null,
      "outputs": [
        {
          "output_type": "execute_result",
          "data": {
            "text/plain": [
              "array(['Santo Domingo', 'Mexico city', '', ..., 'Hungrum',\n",
              "       'Ceelka Geelow', 'Kubentog'], dtype=object)"
            ]
          },
          "metadata": {},
          "execution_count": 279
        }
      ]
    },
    {
      "cell_type": "code",
      "source": [
        "gt.isnull.mean().sort_values(ascending=False)"
      ],
      "metadata": {
        "id": "HQP2TWMJst_e"
      },
      "execution_count": null,
      "outputs": []
    }
  ]
}